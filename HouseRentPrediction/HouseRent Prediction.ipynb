{
 "cells": [
  {
   "cell_type": "code",
   "execution_count": 14,
   "metadata": {},
   "outputs": [],
   "source": [
    "import pandas as pd\n",
    "import numpy as np"
   ]
  },
  {
   "cell_type": "code",
   "execution_count": 26,
   "metadata": {},
   "outputs": [
    {
     "name": "stdout",
     "output_type": "stream",
     "text": [
      "(265190, 22)\n"
     ]
    }
   ],
   "source": [
    "rental_listings = pd.read_csv('data/housing_train.csv')\n",
    "print(rental_listings.shape)"
   ]
  },
  {
   "cell_type": "code",
   "execution_count": 27,
   "metadata": {},
   "outputs": [
    {
     "data": {
      "text/html": [
       "<div>\n",
       "<style scoped>\n",
       "    .dataframe tbody tr th:only-of-type {\n",
       "        vertical-align: middle;\n",
       "    }\n",
       "\n",
       "    .dataframe tbody tr th {\n",
       "        vertical-align: top;\n",
       "    }\n",
       "\n",
       "    .dataframe thead th {\n",
       "        text-align: right;\n",
       "    }\n",
       "</style>\n",
       "<table border=\"1\" class=\"dataframe\">\n",
       "  <thead>\n",
       "    <tr style=\"text-align: right;\">\n",
       "      <th></th>\n",
       "      <th>id</th>\n",
       "      <th>url</th>\n",
       "      <th>region</th>\n",
       "      <th>region_url</th>\n",
       "      <th>price</th>\n",
       "      <th>type</th>\n",
       "      <th>sqfeet</th>\n",
       "      <th>beds</th>\n",
       "      <th>baths</th>\n",
       "      <th>cats_allowed</th>\n",
       "      <th>...</th>\n",
       "      <th>wheelchair_access</th>\n",
       "      <th>electric_vehicle_charge</th>\n",
       "      <th>comes_furnished</th>\n",
       "      <th>laundry_options</th>\n",
       "      <th>parking_options</th>\n",
       "      <th>image_url</th>\n",
       "      <th>description</th>\n",
       "      <th>lat</th>\n",
       "      <th>long</th>\n",
       "      <th>state</th>\n",
       "    </tr>\n",
       "  </thead>\n",
       "  <tbody>\n",
       "    <tr>\n",
       "      <th>0</th>\n",
       "      <td>7039061606</td>\n",
       "      <td>https://bham.craigslist.org/apa/d/birmingham-h...</td>\n",
       "      <td>birmingham</td>\n",
       "      <td>https://bham.craigslist.org</td>\n",
       "      <td>1195</td>\n",
       "      <td>apartment</td>\n",
       "      <td>1908</td>\n",
       "      <td>3</td>\n",
       "      <td>2.0</td>\n",
       "      <td>1</td>\n",
       "      <td>...</td>\n",
       "      <td>0</td>\n",
       "      <td>0</td>\n",
       "      <td>0</td>\n",
       "      <td>laundry on site</td>\n",
       "      <td>street parking</td>\n",
       "      <td>https://images.craigslist.org/00L0L_80pNkyDeG0...</td>\n",
       "      <td>Apartments In Birmingham AL Welcome to 100 Inv...</td>\n",
       "      <td>33.4226</td>\n",
       "      <td>-86.7065</td>\n",
       "      <td>al</td>\n",
       "    </tr>\n",
       "    <tr>\n",
       "      <th>1</th>\n",
       "      <td>7041970863</td>\n",
       "      <td>https://bham.craigslist.org/apa/d/birmingham-w...</td>\n",
       "      <td>birmingham</td>\n",
       "      <td>https://bham.craigslist.org</td>\n",
       "      <td>1120</td>\n",
       "      <td>apartment</td>\n",
       "      <td>1319</td>\n",
       "      <td>3</td>\n",
       "      <td>2.0</td>\n",
       "      <td>1</td>\n",
       "      <td>...</td>\n",
       "      <td>0</td>\n",
       "      <td>0</td>\n",
       "      <td>0</td>\n",
       "      <td>laundry on site</td>\n",
       "      <td>off-street parking</td>\n",
       "      <td>https://images.craigslist.org/00707_uRrY9CsNMC...</td>\n",
       "      <td>Find Your Way to Haven Apartment Homes Come ho...</td>\n",
       "      <td>33.3755</td>\n",
       "      <td>-86.8045</td>\n",
       "      <td>al</td>\n",
       "    </tr>\n",
       "    <tr>\n",
       "      <th>2</th>\n",
       "      <td>7041966914</td>\n",
       "      <td>https://bham.craigslist.org/apa/d/birmingham-g...</td>\n",
       "      <td>birmingham</td>\n",
       "      <td>https://bham.craigslist.org</td>\n",
       "      <td>825</td>\n",
       "      <td>apartment</td>\n",
       "      <td>1133</td>\n",
       "      <td>1</td>\n",
       "      <td>1.5</td>\n",
       "      <td>1</td>\n",
       "      <td>...</td>\n",
       "      <td>0</td>\n",
       "      <td>0</td>\n",
       "      <td>0</td>\n",
       "      <td>laundry on site</td>\n",
       "      <td>street parking</td>\n",
       "      <td>https://images.craigslist.org/00h0h_b7Bdj1NLBi...</td>\n",
       "      <td>Apartments In Birmingham AL Welcome to 100 Inv...</td>\n",
       "      <td>33.4226</td>\n",
       "      <td>-86.7065</td>\n",
       "      <td>al</td>\n",
       "    </tr>\n",
       "    <tr>\n",
       "      <th>3</th>\n",
       "      <td>7041966936</td>\n",
       "      <td>https://bham.craigslist.org/apa/d/birmingham-f...</td>\n",
       "      <td>birmingham</td>\n",
       "      <td>https://bham.craigslist.org</td>\n",
       "      <td>800</td>\n",
       "      <td>apartment</td>\n",
       "      <td>927</td>\n",
       "      <td>1</td>\n",
       "      <td>1.0</td>\n",
       "      <td>1</td>\n",
       "      <td>...</td>\n",
       "      <td>0</td>\n",
       "      <td>0</td>\n",
       "      <td>0</td>\n",
       "      <td>laundry on site</td>\n",
       "      <td>street parking</td>\n",
       "      <td>https://images.craigslist.org/00808_6ghZ8tSRQs...</td>\n",
       "      <td>Apartments In Birmingham AL Welcome to 100 Inv...</td>\n",
       "      <td>33.4226</td>\n",
       "      <td>-86.7065</td>\n",
       "      <td>al</td>\n",
       "    </tr>\n",
       "    <tr>\n",
       "      <th>4</th>\n",
       "      <td>7041966888</td>\n",
       "      <td>https://bham.craigslist.org/apa/d/birmingham-2...</td>\n",
       "      <td>birmingham</td>\n",
       "      <td>https://bham.craigslist.org</td>\n",
       "      <td>785</td>\n",
       "      <td>apartment</td>\n",
       "      <td>1047</td>\n",
       "      <td>2</td>\n",
       "      <td>1.0</td>\n",
       "      <td>1</td>\n",
       "      <td>...</td>\n",
       "      <td>0</td>\n",
       "      <td>0</td>\n",
       "      <td>0</td>\n",
       "      <td>laundry on site</td>\n",
       "      <td>street parking</td>\n",
       "      <td>https://images.craigslist.org/00y0y_21c0FOvUXm...</td>\n",
       "      <td>Apartments In Birmingham AL Welcome to 100 Inv...</td>\n",
       "      <td>33.4226</td>\n",
       "      <td>-86.7065</td>\n",
       "      <td>al</td>\n",
       "    </tr>\n",
       "  </tbody>\n",
       "</table>\n",
       "<p>5 rows × 22 columns</p>\n",
       "</div>"
      ],
      "text/plain": [
       "           id                                                url      region  \\\n",
       "0  7039061606  https://bham.craigslist.org/apa/d/birmingham-h...  birmingham   \n",
       "1  7041970863  https://bham.craigslist.org/apa/d/birmingham-w...  birmingham   \n",
       "2  7041966914  https://bham.craigslist.org/apa/d/birmingham-g...  birmingham   \n",
       "3  7041966936  https://bham.craigslist.org/apa/d/birmingham-f...  birmingham   \n",
       "4  7041966888  https://bham.craigslist.org/apa/d/birmingham-2...  birmingham   \n",
       "\n",
       "                    region_url  price       type  sqfeet  beds  baths  \\\n",
       "0  https://bham.craigslist.org   1195  apartment    1908     3    2.0   \n",
       "1  https://bham.craigslist.org   1120  apartment    1319     3    2.0   \n",
       "2  https://bham.craigslist.org    825  apartment    1133     1    1.5   \n",
       "3  https://bham.craigslist.org    800  apartment     927     1    1.0   \n",
       "4  https://bham.craigslist.org    785  apartment    1047     2    1.0   \n",
       "\n",
       "   cats_allowed  ...  wheelchair_access  electric_vehicle_charge  \\\n",
       "0             1  ...                  0                        0   \n",
       "1             1  ...                  0                        0   \n",
       "2             1  ...                  0                        0   \n",
       "3             1  ...                  0                        0   \n",
       "4             1  ...                  0                        0   \n",
       "\n",
       "   comes_furnished  laundry_options     parking_options  \\\n",
       "0                0  laundry on site      street parking   \n",
       "1                0  laundry on site  off-street parking   \n",
       "2                0  laundry on site      street parking   \n",
       "3                0  laundry on site      street parking   \n",
       "4                0  laundry on site      street parking   \n",
       "\n",
       "                                           image_url  \\\n",
       "0  https://images.craigslist.org/00L0L_80pNkyDeG0...   \n",
       "1  https://images.craigslist.org/00707_uRrY9CsNMC...   \n",
       "2  https://images.craigslist.org/00h0h_b7Bdj1NLBi...   \n",
       "3  https://images.craigslist.org/00808_6ghZ8tSRQs...   \n",
       "4  https://images.craigslist.org/00y0y_21c0FOvUXm...   \n",
       "\n",
       "                                         description      lat     long  state  \n",
       "0  Apartments In Birmingham AL Welcome to 100 Inv...  33.4226 -86.7065     al  \n",
       "1  Find Your Way to Haven Apartment Homes Come ho...  33.3755 -86.8045     al  \n",
       "2  Apartments In Birmingham AL Welcome to 100 Inv...  33.4226 -86.7065     al  \n",
       "3  Apartments In Birmingham AL Welcome to 100 Inv...  33.4226 -86.7065     al  \n",
       "4  Apartments In Birmingham AL Welcome to 100 Inv...  33.4226 -86.7065     al  \n",
       "\n",
       "[5 rows x 22 columns]"
      ]
     },
     "execution_count": 27,
     "metadata": {},
     "output_type": "execute_result"
    }
   ],
   "source": [
    "rental_listings.head()"
   ]
  },
  {
   "cell_type": "code",
   "execution_count": 28,
   "metadata": {},
   "outputs": [],
   "source": [
    "# Dropping unnecessary columns\n",
    "rental_listings.drop(['url', 'region_url', 'image_url', 'description', 'lat', 'long', 'state'], axis = 1, inplace = True) \n",
    "\n",
    "# For now dropping Description column, but later we will consider this feature as it has a lot of \n",
    "# information related to location and proximity"
   ]
  },
  {
   "cell_type": "code",
   "execution_count": 29,
   "metadata": {},
   "outputs": [
    {
     "name": "stdout",
     "output_type": "stream",
     "text": [
      "(265190, 15)\n"
     ]
    }
   ],
   "source": [
    "print(rental_listings.shape)"
   ]
  },
  {
   "cell_type": "code",
   "execution_count": 30,
   "metadata": {},
   "outputs": [
    {
     "data": {
      "text/html": [
       "<div>\n",
       "<style scoped>\n",
       "    .dataframe tbody tr th:only-of-type {\n",
       "        vertical-align: middle;\n",
       "    }\n",
       "\n",
       "    .dataframe tbody tr th {\n",
       "        vertical-align: top;\n",
       "    }\n",
       "\n",
       "    .dataframe thead th {\n",
       "        text-align: right;\n",
       "    }\n",
       "</style>\n",
       "<table border=\"1\" class=\"dataframe\">\n",
       "  <thead>\n",
       "    <tr style=\"text-align: right;\">\n",
       "      <th></th>\n",
       "      <th>id</th>\n",
       "      <th>region</th>\n",
       "      <th>price</th>\n",
       "      <th>type</th>\n",
       "      <th>sqfeet</th>\n",
       "      <th>beds</th>\n",
       "      <th>baths</th>\n",
       "      <th>cats_allowed</th>\n",
       "      <th>dogs_allowed</th>\n",
       "      <th>smoking_allowed</th>\n",
       "      <th>wheelchair_access</th>\n",
       "      <th>electric_vehicle_charge</th>\n",
       "      <th>comes_furnished</th>\n",
       "      <th>laundry_options</th>\n",
       "      <th>parking_options</th>\n",
       "    </tr>\n",
       "  </thead>\n",
       "  <tbody>\n",
       "    <tr>\n",
       "      <th>0</th>\n",
       "      <td>7039061606</td>\n",
       "      <td>birmingham</td>\n",
       "      <td>1195</td>\n",
       "      <td>apartment</td>\n",
       "      <td>1908</td>\n",
       "      <td>3</td>\n",
       "      <td>2.0</td>\n",
       "      <td>1</td>\n",
       "      <td>1</td>\n",
       "      <td>1</td>\n",
       "      <td>0</td>\n",
       "      <td>0</td>\n",
       "      <td>0</td>\n",
       "      <td>laundry on site</td>\n",
       "      <td>street parking</td>\n",
       "    </tr>\n",
       "    <tr>\n",
       "      <th>1</th>\n",
       "      <td>7041970863</td>\n",
       "      <td>birmingham</td>\n",
       "      <td>1120</td>\n",
       "      <td>apartment</td>\n",
       "      <td>1319</td>\n",
       "      <td>3</td>\n",
       "      <td>2.0</td>\n",
       "      <td>1</td>\n",
       "      <td>1</td>\n",
       "      <td>1</td>\n",
       "      <td>0</td>\n",
       "      <td>0</td>\n",
       "      <td>0</td>\n",
       "      <td>laundry on site</td>\n",
       "      <td>off-street parking</td>\n",
       "    </tr>\n",
       "    <tr>\n",
       "      <th>2</th>\n",
       "      <td>7041966914</td>\n",
       "      <td>birmingham</td>\n",
       "      <td>825</td>\n",
       "      <td>apartment</td>\n",
       "      <td>1133</td>\n",
       "      <td>1</td>\n",
       "      <td>1.5</td>\n",
       "      <td>1</td>\n",
       "      <td>1</td>\n",
       "      <td>1</td>\n",
       "      <td>0</td>\n",
       "      <td>0</td>\n",
       "      <td>0</td>\n",
       "      <td>laundry on site</td>\n",
       "      <td>street parking</td>\n",
       "    </tr>\n",
       "    <tr>\n",
       "      <th>3</th>\n",
       "      <td>7041966936</td>\n",
       "      <td>birmingham</td>\n",
       "      <td>800</td>\n",
       "      <td>apartment</td>\n",
       "      <td>927</td>\n",
       "      <td>1</td>\n",
       "      <td>1.0</td>\n",
       "      <td>1</td>\n",
       "      <td>1</td>\n",
       "      <td>1</td>\n",
       "      <td>0</td>\n",
       "      <td>0</td>\n",
       "      <td>0</td>\n",
       "      <td>laundry on site</td>\n",
       "      <td>street parking</td>\n",
       "    </tr>\n",
       "    <tr>\n",
       "      <th>4</th>\n",
       "      <td>7041966888</td>\n",
       "      <td>birmingham</td>\n",
       "      <td>785</td>\n",
       "      <td>apartment</td>\n",
       "      <td>1047</td>\n",
       "      <td>2</td>\n",
       "      <td>1.0</td>\n",
       "      <td>1</td>\n",
       "      <td>1</td>\n",
       "      <td>1</td>\n",
       "      <td>0</td>\n",
       "      <td>0</td>\n",
       "      <td>0</td>\n",
       "      <td>laundry on site</td>\n",
       "      <td>street parking</td>\n",
       "    </tr>\n",
       "    <tr>\n",
       "      <th>5</th>\n",
       "      <td>7041966868</td>\n",
       "      <td>birmingham</td>\n",
       "      <td>900</td>\n",
       "      <td>apartment</td>\n",
       "      <td>1298</td>\n",
       "      <td>2</td>\n",
       "      <td>2.0</td>\n",
       "      <td>1</td>\n",
       "      <td>1</td>\n",
       "      <td>1</td>\n",
       "      <td>0</td>\n",
       "      <td>0</td>\n",
       "      <td>0</td>\n",
       "      <td>laundry on site</td>\n",
       "      <td>street parking</td>\n",
       "    </tr>\n",
       "    <tr>\n",
       "      <th>6</th>\n",
       "      <td>7041966702</td>\n",
       "      <td>birmingham</td>\n",
       "      <td>925</td>\n",
       "      <td>apartment</td>\n",
       "      <td>1350</td>\n",
       "      <td>2</td>\n",
       "      <td>2.0</td>\n",
       "      <td>1</td>\n",
       "      <td>1</td>\n",
       "      <td>1</td>\n",
       "      <td>0</td>\n",
       "      <td>0</td>\n",
       "      <td>0</td>\n",
       "      <td>laundry on site</td>\n",
       "      <td>street parking</td>\n",
       "    </tr>\n",
       "    <tr>\n",
       "      <th>7</th>\n",
       "      <td>7041964186</td>\n",
       "      <td>birmingham</td>\n",
       "      <td>1085</td>\n",
       "      <td>house</td>\n",
       "      <td>2308</td>\n",
       "      <td>3</td>\n",
       "      <td>2.0</td>\n",
       "      <td>1</td>\n",
       "      <td>1</td>\n",
       "      <td>0</td>\n",
       "      <td>0</td>\n",
       "      <td>0</td>\n",
       "      <td>0</td>\n",
       "      <td>w/d hookups</td>\n",
       "      <td>NaN</td>\n",
       "    </tr>\n",
       "    <tr>\n",
       "      <th>8</th>\n",
       "      <td>7041960353</td>\n",
       "      <td>birmingham</td>\n",
       "      <td>1269</td>\n",
       "      <td>apartment</td>\n",
       "      <td>1156</td>\n",
       "      <td>3</td>\n",
       "      <td>2.0</td>\n",
       "      <td>1</td>\n",
       "      <td>1</td>\n",
       "      <td>1</td>\n",
       "      <td>0</td>\n",
       "      <td>0</td>\n",
       "      <td>0</td>\n",
       "      <td>w/d in unit</td>\n",
       "      <td>NaN</td>\n",
       "    </tr>\n",
       "    <tr>\n",
       "      <th>9</th>\n",
       "      <td>7041959413</td>\n",
       "      <td>birmingham</td>\n",
       "      <td>799</td>\n",
       "      <td>apartment</td>\n",
       "      <td>703</td>\n",
       "      <td>1</td>\n",
       "      <td>1.0</td>\n",
       "      <td>1</td>\n",
       "      <td>1</td>\n",
       "      <td>1</td>\n",
       "      <td>0</td>\n",
       "      <td>0</td>\n",
       "      <td>0</td>\n",
       "      <td>w/d in unit</td>\n",
       "      <td>NaN</td>\n",
       "    </tr>\n",
       "  </tbody>\n",
       "</table>\n",
       "</div>"
      ],
      "text/plain": [
       "           id      region  price       type  sqfeet  beds  baths  \\\n",
       "0  7039061606  birmingham   1195  apartment    1908     3    2.0   \n",
       "1  7041970863  birmingham   1120  apartment    1319     3    2.0   \n",
       "2  7041966914  birmingham    825  apartment    1133     1    1.5   \n",
       "3  7041966936  birmingham    800  apartment     927     1    1.0   \n",
       "4  7041966888  birmingham    785  apartment    1047     2    1.0   \n",
       "5  7041966868  birmingham    900  apartment    1298     2    2.0   \n",
       "6  7041966702  birmingham    925  apartment    1350     2    2.0   \n",
       "7  7041964186  birmingham   1085      house    2308     3    2.0   \n",
       "8  7041960353  birmingham   1269  apartment    1156     3    2.0   \n",
       "9  7041959413  birmingham    799  apartment     703     1    1.0   \n",
       "\n",
       "   cats_allowed  dogs_allowed  smoking_allowed  wheelchair_access  \\\n",
       "0             1             1                1                  0   \n",
       "1             1             1                1                  0   \n",
       "2             1             1                1                  0   \n",
       "3             1             1                1                  0   \n",
       "4             1             1                1                  0   \n",
       "5             1             1                1                  0   \n",
       "6             1             1                1                  0   \n",
       "7             1             1                0                  0   \n",
       "8             1             1                1                  0   \n",
       "9             1             1                1                  0   \n",
       "\n",
       "   electric_vehicle_charge  comes_furnished  laundry_options  \\\n",
       "0                        0                0  laundry on site   \n",
       "1                        0                0  laundry on site   \n",
       "2                        0                0  laundry on site   \n",
       "3                        0                0  laundry on site   \n",
       "4                        0                0  laundry on site   \n",
       "5                        0                0  laundry on site   \n",
       "6                        0                0  laundry on site   \n",
       "7                        0                0      w/d hookups   \n",
       "8                        0                0      w/d in unit   \n",
       "9                        0                0      w/d in unit   \n",
       "\n",
       "      parking_options  \n",
       "0      street parking  \n",
       "1  off-street parking  \n",
       "2      street parking  \n",
       "3      street parking  \n",
       "4      street parking  \n",
       "5      street parking  \n",
       "6      street parking  \n",
       "7                 NaN  \n",
       "8                 NaN  \n",
       "9                 NaN  "
      ]
     },
     "execution_count": 30,
     "metadata": {},
     "output_type": "execute_result"
    }
   ],
   "source": [
    "rental_listings.head(10)"
   ]
  },
  {
   "cell_type": "code",
   "execution_count": 31,
   "metadata": {},
   "outputs": [],
   "source": [
    "# On the basis of description, we will give some score"
   ]
  },
  {
   "cell_type": "code",
   "execution_count": 35,
   "metadata": {},
   "outputs": [
    {
     "data": {
      "text/plain": [
       "array(['apartment', 'house', 'manufactured', 'townhouse', 'condo',\n",
       "       'duplex', 'flat', 'cottage/cabin', 'in-law', 'loft', 'land',\n",
       "       'assisted living'], dtype=object)"
      ]
     },
     "execution_count": 35,
     "metadata": {},
     "output_type": "execute_result"
    }
   ],
   "source": [
    "rental_listings.type.unique()"
   ]
  },
  {
   "cell_type": "code",
   "execution_count": 36,
   "metadata": {},
   "outputs": [
    {
     "data": {
      "text/plain": [
       "array(['birmingham', 'huntsville / decatur', 'dothan', 'mobile',\n",
       "       'montgomery', 'florence / muscle shoals', 'gadsden-anniston',\n",
       "       'tuscaloosa', 'anchorage / mat-su', 'fairbanks', 'phoenix',\n",
       "       'flagstaff / sedona', 'tucson', 'little rock', 'prescott', 'yuma',\n",
       "       'fayetteville', 'bakersfield', 'texarkana', 'fresno / madera',\n",
       "       'hanford-corcoran', 'humboldt county', 'inland empire',\n",
       "       'los angeles', 'kenai peninsula', 'southeast alaska',\n",
       "       'mohave county', 'fort smith', 'jonesboro', 'show low',\n",
       "       'gold country', 'sierra vista', 'chico', 'imperial county',\n",
       "       'boulder', 'modesto', 'orange county', 'mendocino county',\n",
       "       'merced', 'palm springs', 'reno / tahoe', 'monterey bay',\n",
       "       'redding', 'sacramento', 'san diego', 'san luis obispo',\n",
       "       'santa barbara', 'SF bay area', 'stockton', 'ventura county',\n",
       "       'susanville', 'colorado springs', 'yuba-sutter', 'visalia-tulare',\n",
       "       'siskiyou county', 'santa maria', 'denver', 'northwest CT',\n",
       "       'fort collins / north CO', 'western slope', 'eastern CT',\n",
       "       'hartford', 'new haven', 'washington, DC', 'high rockies',\n",
       "       'pueblo', 'daytona beach', 'ft myers / SW florida', 'gainesville',\n",
       "       'jacksonville', 'ocala', 'eastern CO', 'heartland florida',\n",
       "       'delaware', 'lakeland', 'florida keys', 'north central FL',\n",
       "       'orlando', 'panama city', 'pensacola', 'sarasota-bradenton',\n",
       "       'south florida', 'okaloosa / walton', 'space coast', 'tallahassee',\n",
       "       'tampa bay area', 'atlanta', 'augusta', 'brunswick', 'athens',\n",
       "       'treasure coast', 'albany', 'st augustine',\n",
       "       'macon / warner robins', 'columbus', 'northwest GA',\n",
       "       'savannah / hinesville', 'hawaii', 'boise', 'east idaho',\n",
       "       'statesboro', \"spokane / coeur d'alene\", 'valdosta',\n",
       "       'bloomington-normal', 'champaign urbana', 'chicago', 'twin falls',\n",
       "       'decatur', 'la salle co', 'quad cities, IA/IL', 'st louis, MO',\n",
       "       'peoria', 'evansville', 'springfield', 'bloomington',\n",
       "       'lewiston / clarkston', 'pullman / moscow', 'indianapolis',\n",
       "       'fort wayne', 'rockford', 'south bend / michiana', 'ames',\n",
       "       'richmond', 'southern illinois', 'mattoon-charleston',\n",
       "       'muncie / anderson', 'western IL', 'lafayette / west lafayette',\n",
       "       'kokomo', 'terre haute', 'cedar rapids', 'des moines',\n",
       "       'omaha / council bluffs', 'wichita', 'fort dodge', 'lawrence',\n",
       "       'salina', 'sioux city', 'bowling green', 'lexington',\n",
       "       'eastern kentucky', 'iowa city', 'louisville', 'dubuque',\n",
       "       'baton rouge', 'waterloo / cedar falls', 'manhattan', 'western KY',\n",
       "       'topeka', 'lafayette', 'monroe', 'mason city', 'new orleans',\n",
       "       'kansas city, MO', 'southeast IA', 'lake charles', 'southeast KS',\n",
       "       'huntington-ashland', 'northwest KS', 'southwest KS', 'shreveport',\n",
       "       'central louisiana', 'houma', 'owensboro', 'maine', 'lansing',\n",
       "       'annapolis', 'baltimore', 'frederick', 'southern maryland',\n",
       "       'boston', 'south coast', 'western massachusetts',\n",
       "       'worcester / central MA', 'western maryland', 'ann arbor',\n",
       "       'battle creek', 'detroit metro', 'holland', 'cumberland valley',\n",
       "       'flint', 'kalamazoo', 'muskegon', 'saginaw-midland-baycity',\n",
       "       'upper peninsula', 'eastern shore', 'cape cod / islands',\n",
       "       'grand rapids', 'bemidji', 'central michigan', 'northern michigan',\n",
       "       'jackson', 'southwest michigan', 'the thumb', 'port huron',\n",
       "       'brainerd', 'duluth / superior', 'fargo / moorhead',\n",
       "       'minneapolis / st paul', 'rochester', 'gulfport / biloxi',\n",
       "       'st cloud', 'hattiesburg', 'asheville', 'north mississippi',\n",
       "       'joplin', 'kirksville', 'mankato', 'southwest MS',\n",
       "       'columbia / jeff city', 'southwest MN', 'st joseph', 'charlotte',\n",
       "       'boone', 'billings', 'missoula', 'eastern NC', 'greensboro',\n",
       "       'raleigh / durham / CH', 'hickory / lenoir', 'lake of the ozarks',\n",
       "       'meridian', 'southeast missouri', 'kansas city', 'st louis',\n",
       "       'bozeman', 'eastern montana', 'kalispell', 'great falls', 'helena',\n",
       "       'butte', 'outer banks', 'wilmington', 'winston-salem', 'lincoln',\n",
       "       'las vegas', 'north platte', 'central NJ', 'north jersey',\n",
       "       'jersey shore', 'south jersey', 'albuquerque', 'buffalo', 'ithaca',\n",
       "       'farmington', 'long island', 'hudson valley', 'syracuse',\n",
       "       'plattsburgh-adirondacks', 'catskills', 'watertown',\n",
       "       'grand island', 'santa fe / taos', 'scottsbluff / panhandle',\n",
       "       'new york city', 'binghamton', 'utica-rome-oneida',\n",
       "       'new hampshire', 'elko', 'clovis / portales', 'finger lakes',\n",
       "       'chautauqua', 'elmira-corning', 'las cruces', 'roswell / carlsbad',\n",
       "       'glens falls', 'potsdam-canton-massena', 'oneonta',\n",
       "       'twin tiers NY/PA', 'cincinnati', 'north dakota', 'akron / canton',\n",
       "       'bismarck', 'grand forks', 'dayton / springfield', 'cleveland',\n",
       "       'lima / findlay', 'toledo', 'northern panhandle', 'oklahoma city',\n",
       "       'zanesville / cambridge', 'ashtabula', 'lawton', 'chillicothe',\n",
       "       'texoma', 'tulsa', 'bend', 'corvallis/albany', 'tuscarawas co',\n",
       "       'east oregon', 'eugene', 'medford-ashland', 'oregon coast',\n",
       "       'portland', 'mansfield', 'stillwater', 'parkersburg-marietta',\n",
       "       'northwest OK'], dtype=object)"
      ]
     },
     "execution_count": 36,
     "metadata": {},
     "output_type": "execute_result"
    }
   ],
   "source": [
    "rental_listings.region.unique()"
   ]
  },
  {
   "cell_type": "code",
   "execution_count": 37,
   "metadata": {},
   "outputs": [
    {
     "data": {
      "text/plain": [
       "array(['street parking', 'off-street parking', nan, 'carport',\n",
       "       'attached garage', 'detached garage', 'no parking',\n",
       "       'valet parking'], dtype=object)"
      ]
     },
     "execution_count": 37,
     "metadata": {},
     "output_type": "execute_result"
    }
   ],
   "source": [
    "rental_listings.parking_options.unique()"
   ]
  },
  {
   "cell_type": "code",
   "execution_count": 38,
   "metadata": {},
   "outputs": [
    {
     "data": {
      "text/plain": [
       "array(['laundry on site', 'w/d hookups', 'w/d in unit', nan,\n",
       "       'laundry in bldg', 'no laundry on site'], dtype=object)"
      ]
     },
     "execution_count": 38,
     "metadata": {},
     "output_type": "execute_result"
    }
   ],
   "source": [
    "rental_listings.laundry_options.unique()"
   ]
  },
  {
   "cell_type": "code",
   "execution_count": 39,
   "metadata": {},
   "outputs": [
    {
     "data": {
      "text/plain": [
       "array([0, 1])"
      ]
     },
     "execution_count": 39,
     "metadata": {},
     "output_type": "execute_result"
    }
   ],
   "source": [
    "rental_listings.comes_furnished.unique()"
   ]
  },
  {
   "cell_type": "code",
   "execution_count": 42,
   "metadata": {},
   "outputs": [
    {
     "data": {
      "text/plain": [
       "array([1, 0])"
      ]
     },
     "execution_count": 42,
     "metadata": {},
     "output_type": "execute_result"
    }
   ],
   "source": [
    "rental_listings.cats_allowed.unique()"
   ]
  },
  {
   "cell_type": "code",
   "execution_count": 43,
   "metadata": {},
   "outputs": [
    {
     "data": {
      "text/plain": [
       "array([1, 0])"
      ]
     },
     "execution_count": 43,
     "metadata": {},
     "output_type": "execute_result"
    }
   ],
   "source": [
    "rental_listings.dogs_allowed.unique()"
   ]
  },
  {
   "cell_type": "code",
   "execution_count": 44,
   "metadata": {},
   "outputs": [
    {
     "data": {
      "text/plain": [
       "array([1, 0])"
      ]
     },
     "execution_count": 44,
     "metadata": {},
     "output_type": "execute_result"
    }
   ],
   "source": [
    "rental_listings.smoking_allowed.unique()"
   ]
  },
  {
   "cell_type": "code",
   "execution_count": 45,
   "metadata": {},
   "outputs": [
    {
     "data": {
      "text/plain": [
       "array([0, 1])"
      ]
     },
     "execution_count": 45,
     "metadata": {},
     "output_type": "execute_result"
    }
   ],
   "source": [
    "rental_listings.wheelchair_access.unique()"
   ]
  },
  {
   "cell_type": "code",
   "execution_count": 46,
   "metadata": {},
   "outputs": [
    {
     "data": {
      "text/plain": [
       "array([0, 1])"
      ]
     },
     "execution_count": 46,
     "metadata": {},
     "output_type": "execute_result"
    }
   ],
   "source": [
    "rental_listings.electric_vehicle_charge.unique()"
   ]
  },
  {
   "cell_type": "code",
   "execution_count": null,
   "metadata": {},
   "outputs": [],
   "source": []
  }
 ],
 "metadata": {
  "kernelspec": {
   "display_name": "Python 3",
   "language": "python",
   "name": "python3"
  },
  "language_info": {
   "codemirror_mode": {
    "name": "ipython",
    "version": 3
   },
   "file_extension": ".py",
   "mimetype": "text/x-python",
   "name": "python",
   "nbconvert_exporter": "python",
   "pygments_lexer": "ipython3",
   "version": "3.7.6"
  }
 },
 "nbformat": 4,
 "nbformat_minor": 4
}
